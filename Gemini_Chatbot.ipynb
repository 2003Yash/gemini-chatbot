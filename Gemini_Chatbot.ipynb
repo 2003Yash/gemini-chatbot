{
  "nbformat": 4,
  "nbformat_minor": 0,
  "metadata": {
    "colab": {
      "provenance": [],
      "authorship_tag": "ABX9TyO0LG9P2IF6npNGHUmk8rOy",
      "include_colab_link": true
    },
    "kernelspec": {
      "name": "python3",
      "display_name": "Python 3"
    },
    "language_info": {
      "name": "python"
    }
  },
  "cells": [
    {
      "cell_type": "markdown",
      "metadata": {
        "id": "view-in-github",
        "colab_type": "text"
      },
      "source": [
        "<a href=\"https://colab.research.google.com/github/2003Yash/gemini-chatbot/blob/main/Gemini_Chatbot.ipynb\" target=\"_parent\"><img src=\"https://colab.research.google.com/assets/colab-badge.svg\" alt=\"Open In Colab\"/></a>"
      ]
    },
    {
      "cell_type": "code",
      "source": [
        "import google.generativeai as ai"
      ],
      "metadata": {
        "id": "UfagKbWJLIwF"
      },
      "execution_count": 1,
      "outputs": []
    },
    {
      "cell_type": "markdown",
      "source": [
        "Source of API kEY : https://aistudio.google.com/app/apikey"
      ],
      "metadata": {
        "id": "uK-yOXhiMNHg"
      }
    },
    {
      "cell_type": "code",
      "execution_count": 3,
      "metadata": {
        "id": "8FynUX9cOvZ5"
      },
      "outputs": [],
      "source": [
        "API_KEY = \"YOUR-API-KEY\""
      ]
    },
    {
      "cell_type": "code",
      "source": [
        "# configure the API\n",
        "ai.configure(api_key=API_KEY)"
      ],
      "metadata": {
        "id": "eJ40sWVeLm9R"
      },
      "execution_count": 4,
      "outputs": []
    },
    {
      "cell_type": "code",
      "source": [
        "# Create new model\n",
        "model = ai.GenerativeModel(\"gemini-pro\")\n",
        "chat = model.start_chat()"
      ],
      "metadata": {
        "id": "3DtcisIiLuFK"
      },
      "execution_count": 6,
      "outputs": []
    },
    {
      "cell_type": "code",
      "source": [
        "# Start a conversation\n",
        "\n",
        "while True:\n",
        "    user_input = input(\"You: \")\n",
        "    if user_input.lower() == \"bye\":\n",
        "        print(\"Bot: Goodbye Master, Have a great Day\")\n",
        "        break\n",
        "    response = chat.send_message(user_input)\n",
        "    print(f\"Bot: {response.text}\")"
      ],
      "metadata": {
        "colab": {
          "base_uri": "https://localhost:8080/",
          "height": 121
        },
        "id": "qTXrpU7IL-TX",
        "outputId": "7aece211-89d8-4ea8-8336-ecf88de743cb"
      },
      "execution_count": 7,
      "outputs": [
        {
          "output_type": "stream",
          "name": "stdout",
          "text": [
            "You: hi\n",
            "Bot: Hello there! How can I assist you today?\n",
            "You: can you tell me which day is today\n",
            "Bot: Today is Friday, March 3, 2023.\n",
            "You: bye\n",
            "Bot: Goodbye Master, Have a great Day\n"
          ]
        }
      ]
    }
  ]
}